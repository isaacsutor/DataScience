{
 "cells": [
  {
   "cell_type": "code",
   "execution_count": 8,
   "metadata": {},
   "outputs": [
    {
     "data": {
      "text/html": [
       "        <script type=\"text/javascript\">\n",
       "        window.PlotlyConfig = {MathJaxConfig: 'local'};\n",
       "        if (window.MathJax) {MathJax.Hub.Config({SVG: {font: \"STIX-Web\"}});}\n",
       "        if (typeof require !== 'undefined') {\n",
       "        require.undef(\"plotly\");\n",
       "        requirejs.config({\n",
       "            paths: {\n",
       "                'plotly': ['https://cdn.plot.ly/plotly-latest.min']\n",
       "            }\n",
       "        });\n",
       "        require(['plotly'], function(Plotly) {\n",
       "            window._Plotly = Plotly;\n",
       "        });\n",
       "        }\n",
       "        </script>\n",
       "        "
      ]
     },
     "metadata": {},
     "output_type": "display_data"
    }
   ],
   "source": [
    "from __future__ import division\n",
    "import plotly\n",
    "import plotly.plotly as py\n",
    "import plotly.graph_objs as go\n",
    "plotly.tools.set_credentials_file(username='Isaac_S', api_key='KJba6wzin95iSJHLMkXn')\n",
    "from plotly.offline import download_plotlyjs, init_notebook_mode, plot, iplot\n",
    "init_notebook_mode(connected=True)"
   ]
  },
  {
   "cell_type": "code",
   "execution_count": 9,
   "metadata": {},
   "outputs": [],
   "source": [
    "# campaign data\n",
    "phases = ['Visit', 'Sign-up', 'Selection', 'Purchase', 'Review']\n",
    "values = [13873, 10553, 5443, 3703, 1708]\n",
    " \n",
    "colors = ['rgb(32,155,160)', 'rgb(253,93,124)', 'rgb(28,119,139)', 'rgb(182,231,235)', 'rgb(35,154,160)']"
   ]
  },
  {
   "cell_type": "markdown",
   "metadata": {},
   "source": [
    "Create the Boxes to display the funnel"
   ]
  },
  {
   "cell_type": "code",
   "execution_count": 10,
   "metadata": {},
   "outputs": [],
   "source": [
    "n_phase = len(phases)\n",
    " \n",
    "# fixed width for the plot\n",
    "plot_width = 400\n",
    " \n",
    "# height of a section and difference between sections \n",
    "section_h = 100\n",
    "section_d = 10\n",
    " \n",
    "# multiply factor to calculate the width of other sections\n",
    "unit_width = plot_width / max(values)\n",
    " \n",
    "# width for all the sections (phases)\n",
    "phase_w = [int(value * unit_width) for value in values]\n"
   ]
  },
  {
   "cell_type": "code",
   "execution_count": 11,
   "metadata": {},
   "outputs": [],
   "source": [
    "height = section_h * n_phase + section_d * (n_phase-1)\n",
    "shapes = []\n",
    "label_y = []"
   ]
  },
  {
   "cell_type": "code",
   "execution_count": 12,
   "metadata": {},
   "outputs": [],
   "source": [
    "for i in range(n_phase):\n",
    "        if (i == n_phase-1):\n",
    "                points = [phase_w[i]/2, height, phase_w[i]/2, height - section_h]\n",
    "        else:\n",
    "                points = [phase_w[i]/2, height, phase_w[i+1]/2, height - section_h]\n",
    " \n",
    "        path = 'M {0} {1} L {2} {3} L -{2} {3} L -{0} {1} Z'.format(*points)\n",
    " \n",
    "        shape = {\n",
    "                'type': 'path',\n",
    "                'path': path,\n",
    "                'fillcolor': colors[i],\n",
    "                'line': {\n",
    "                    'width': 1,\n",
    "                    'color': colors[i]\n",
    "                }\n",
    "        }\n",
    "        shapes.append(shape)\n",
    "        \n",
    "        # Y-axis location for this section's details (phase name and value)\n",
    "        label_y.append(height - (section_h / 2))\n",
    " \n",
    "        height = height - (section_h + section_d)"
   ]
  },
  {
   "cell_type": "code",
   "execution_count": 13,
   "metadata": {},
   "outputs": [],
   "source": [
    "# For phase names\n",
    "label_trace = go.Scatter(\n",
    "    x=[-350]*n_phase,\n",
    "    y=label_y,\n",
    "    mode='text',\n",
    "    text=phases,\n",
    "    textfont=dict(\n",
    "        color='rgb(200,200,200)',\n",
    "        size=15\n",
    "    )\n",
    ")\n",
    " \n",
    "# For phase values\n",
    "value_trace = go.Scatter(\n",
    "    x=[350]*n_phase,\n",
    "    y=label_y,\n",
    "    mode='text',\n",
    "    text=values,\n",
    "    textfont=dict(\n",
    "        color='rgb(200,200,200)',\n",
    "        size=15\n",
    "    )\n",
    ")"
   ]
  },
  {
   "cell_type": "code",
   "execution_count": 14,
   "metadata": {},
   "outputs": [
    {
     "data": {
      "application/vnd.plotly.v1+json": {
       "config": {
        "linkText": "Export to plot.ly",
        "plotlyServerURL": "https://plot.ly",
        "showLink": false
       },
       "data": [
        {
         "mode": "text",
         "text": [
          "Visit",
          "Sign-up",
          "Selection",
          "Purchase",
          "Review"
         ],
         "textfont": {
          "color": "rgb(200,200,200)",
          "size": 15
         },
         "type": "scatter",
         "uid": "c97013c1-f75d-4812-ade6-1829ea69dc40",
         "x": [
          -350,
          -350,
          -350,
          -350,
          -350
         ],
         "y": [
          490,
          380,
          270,
          160,
          50
         ]
        },
        {
         "mode": "text",
         "text": [
          "13873",
          "10553",
          "5443",
          "3703",
          "1708"
         ],
         "textfont": {
          "color": "rgb(200,200,200)",
          "size": 15
         },
         "type": "scatter",
         "uid": "a21ce224-c59d-451a-92fe-e0150c7d576b",
         "x": [
          350,
          350,
          350,
          350,
          350
         ],
         "y": [
          490,
          380,
          270,
          160,
          50
         ]
        }
       ],
       "layout": {
        "height": 560,
        "paper_bgcolor": "rgba(44,58,71,1)",
        "plot_bgcolor": "rgba(44,58,71,1)",
        "shapes": [
         {
          "fillcolor": "rgb(32,155,160)",
          "line": {
           "color": "rgb(32,155,160)",
           "width": 1
          },
          "path": "M 200.0 540 L 152.0 440 L -152.0 440 L -200.0 540 Z",
          "type": "path"
         },
         {
          "fillcolor": "rgb(253,93,124)",
          "line": {
           "color": "rgb(253,93,124)",
           "width": 1
          },
          "path": "M 152.0 430 L 78.0 330 L -78.0 330 L -152.0 430 Z",
          "type": "path"
         },
         {
          "fillcolor": "rgb(28,119,139)",
          "line": {
           "color": "rgb(28,119,139)",
           "width": 1
          },
          "path": "M 78.0 320 L 53.0 220 L -53.0 220 L -78.0 320 Z",
          "type": "path"
         },
         {
          "fillcolor": "rgb(182,231,235)",
          "line": {
           "color": "rgb(182,231,235)",
           "width": 1
          },
          "path": "M 53.0 210 L 24.5 110 L -24.5 110 L -53.0 210 Z",
          "type": "path"
         },
         {
          "fillcolor": "rgb(35,154,160)",
          "line": {
           "color": "rgb(35,154,160)",
           "width": 1
          },
          "path": "M 24.5 100 L 24.5 0 L -24.5 0 L -24.5 100 Z",
          "type": "path"
         }
        ],
        "showlegend": false,
        "title": {
         "text": "Funnel Chart"
        },
        "width": 800,
        "xaxis": {
         "autorange": true,
         "range": [
          -388.8888888888889,
          388.8888888888889
         ],
         "showticklabels": false,
         "type": "linear",
         "zeroline": false
        },
        "yaxis": {
         "autorange": true,
         "range": [
          -0.712401055408971,
          540.7124010554089
         ],
         "showticklabels": false,
         "type": "linear",
         "zeroline": false
        }
       }
      },
      "image/png": "[encoded data removed]",
      "text/html": [
       "<div>\n",
       "        \n",
       "        \n",
       "            <div id=\"cfa47b5b-9d09-4390-94a2-d2b81cda09fa\" class=\"plotly-graph-div\" style=\"height:560px; width:800px;\"></div>\n",
       "            <script type=\"text/javascript\">\n",
       "                require([\"plotly\"], function(Plotly) {\n",
       "                    window.PLOTLYENV=window.PLOTLYENV || {};\n",
       "                    window.PLOTLYENV.BASE_URL='https://plot.ly';\n",
       "                    \n",
       "                if (document.getElementById(\"cfa47b5b-9d09-4390-94a2-d2b81cda09fa\")) {\n",
       "                    Plotly.newPlot(\n",
       "                        'cfa47b5b-9d09-4390-94a2-d2b81cda09fa',\n",
       "                        [{\"mode\": \"text\", \"text\": [\"Visit\", \"Sign-up\", \"Selection\", \"Purchase\", \"Review\"], \"textfont\": {\"color\": \"rgb(200,200,200)\", \"size\": 15}, \"type\": \"scatter\", \"uid\": \"c97013c1-f75d-4812-ade6-1829ea69dc40\", \"x\": [-350, -350, -350, -350, -350], \"y\": [490.0, 380.0, 270.0, 160.0, 50.0]}, {\"mode\": \"text\", \"text\": [\"13873\", \"10553\", \"5443\", \"3703\", \"1708\"], \"textfont\": {\"color\": \"rgb(200,200,200)\", \"size\": 15}, \"type\": \"scatter\", \"uid\": \"a21ce224-c59d-451a-92fe-e0150c7d576b\", \"x\": [350, 350, 350, 350, 350], \"y\": [490.0, 380.0, 270.0, 160.0, 50.0]}],\n",
       "                        {\"height\": 560, \"paper_bgcolor\": \"rgba(44,58,71,1)\", \"plot_bgcolor\": \"rgba(44,58,71,1)\", \"shapes\": [{\"fillcolor\": \"rgb(32,155,160)\", \"line\": {\"color\": \"rgb(32,155,160)\", \"width\": 1}, \"path\": \"M 200.0 540 L 152.0 440 L -152.0 440 L -200.0 540 Z\", \"type\": \"path\"}, {\"fillcolor\": \"rgb(253,93,124)\", \"line\": {\"color\": \"rgb(253,93,124)\", \"width\": 1}, \"path\": \"M 152.0 430 L 78.0 330 L -78.0 330 L -152.0 430 Z\", \"type\": \"path\"}, {\"fillcolor\": \"rgb(28,119,139)\", \"line\": {\"color\": \"rgb(28,119,139)\", \"width\": 1}, \"path\": \"M 78.0 320 L 53.0 220 L -53.0 220 L -78.0 320 Z\", \"type\": \"path\"}, {\"fillcolor\": \"rgb(182,231,235)\", \"line\": {\"color\": \"rgb(182,231,235)\", \"width\": 1}, \"path\": \"M 53.0 210 L 24.5 110 L -24.5 110 L -53.0 210 Z\", \"type\": \"path\"}, {\"fillcolor\": \"rgb(35,154,160)\", \"line\": {\"color\": \"rgb(35,154,160)\", \"width\": 1}, \"path\": \"M 24.5 100 L 24.5 0 L -24.5 0 L -24.5 100 Z\", \"type\": \"path\"}], \"showlegend\": false, \"title\": {\"text\": \"Funnel Chart\"}, \"width\": 800, \"xaxis\": {\"showticklabels\": false, \"zeroline\": false}, \"yaxis\": {\"showticklabels\": false, \"zeroline\": false}},\n",
       "                        {\"showLink\": false, \"linkText\": \"Export to plot.ly\", \"plotlyServerURL\": \"https://plot.ly\", \"responsive\": true}\n",
       "                    ).then(function(){\n",
       "                            \n",
       "var gd = document.getElementById('cfa47b5b-9d09-4390-94a2-d2b81cda09fa');\n",
       "var x = new MutationObserver(function (mutations, observer) {{\n",
       "        var display = window.getComputedStyle(gd).display;\n",
       "        if (!display || display === 'none') {{\n",
       "            console.log([gd, 'removed!']);\n",
       "            Plotly.purge(gd);\n",
       "            observer.disconnect();\n",
       "        }}\n",
       "}});\n",
       "\n",
       "// Listen for the removal of the full notebook cells\n",
       "var notebookContainer = gd.closest('#notebook-container');\n",
       "if (notebookContainer) {{\n",
       "    x.observe(notebookContainer, {childList: true});\n",
       "}}\n",
       "\n",
       "// Listen for the clearing of the current output cell\n",
       "var outputEl = gd.closest('.output');\n",
       "if (outputEl) {{\n",
       "    x.observe(outputEl, {childList: true});\n",
       "}}\n",
       "\n",
       "                        })\n",
       "                };\n",
       "                });\n",
       "            </script>\n",
       "        </div>"
      ]
     },
     "metadata": {},
     "output_type": "display_data"
    }
   ],
   "source": [
    "data = [label_trace, value_trace]\n",
    " \n",
    "layout = go.Layout(\n",
    "    title='Funnel Chart',\n",
    "    shapes=shapes,\n",
    "    height=560,\n",
    "    width=800,\n",
    "    showlegend=False,\n",
    "    paper_bgcolor='rgba(44,58,71,1)',\n",
    "    plot_bgcolor='rgba(44,58,71,1)',\n",
    "    xaxis=dict(\n",
    "        showticklabels=False,\n",
    "        zeroline=False,\n",
    "    ),\n",
    "    yaxis=dict(\n",
    "        showticklabels=False,\n",
    "        zeroline=False\n",
    "    )\n",
    ")\n",
    " \n",
    "fig = go.Figure(data=data, layout=layout)\n",
    "iplot(fig)"
   ]
  },
  {
   "cell_type": "code",
   "execution_count": null,
   "metadata": {},
   "outputs": [],
   "source": []
  },
  {
   "cell_type": "code",
   "execution_count": null,
   "metadata": {},
   "outputs": [],
   "source": []
  }
 ],
 "metadata": {
  "kernelspec": {
   "display_name": "Python 3",
   "language": "python",
   "name": "python3"
  },
  "language_info": {
   "codemirror_mode": {
    "name": "ipython",
    "version": 3
   },
   "file_extension": ".py",
   "mimetype": "text/x-python",
   "name": "python",
   "nbconvert_exporter": "python",
   "pygments_lexer": "ipython3",
   "version": "3.7.3"
  }
 },
 "nbformat": 4,
 "nbformat_minor": 2
}
