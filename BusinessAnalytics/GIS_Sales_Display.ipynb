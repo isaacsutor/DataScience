{
 "cells": [
  {
   "cell_type": "code",
   "execution_count": 1,
   "metadata": {},
   "outputs": [],
   "source": [
    "from __future__ import division\n",
    "import plotly\n",
    "import plotly.plotly as py\n",
    "import plotly.graph_objs as go\n",
    "plotly.tools.set_credentials_file(username='Isaac_S', api_key='KJba6wzin95iSJHLMkXn')\n",
    "import plotly.plotly as py\n",
    "import plotly.figure_factory as ff\n",
    "import numpy as np\n",
    "import pandas as pd\n",
    "import cmocean\n",
    "from plotly import tools\n",
    "import colorlover as cl"
   ]
  },
  {
   "cell_type": "code",
   "execution_count": 16,
   "metadata": {},
   "outputs": [],
   "source": [
    "scope = ['New York']\n",
    "df = pd.read_csv('https://raw.githubusercontent.com/plotly/datasets/master/minoritymajority.csv')"
   ]
  },
  {
   "cell_type": "code",
   "execution_count": 17,
   "metadata": {},
   "outputs": [],
   "source": [
    "#df name\n",
    "df_new = df[df['STNAME'].isin(scope)]\n",
    "\n",
    "# list values\n",
    "values = df_new['TOT_POP'].tolist()\n",
    "fips = df_new['FIPS'].tolist()\n"
   ]
  },
  {
   "cell_type": "code",
   "execution_count": 18,
   "metadata": {},
   "outputs": [],
   "source": [
    "colorscale = [\"#2daa4b\", \"#80b1d3\", \"#fdb462\", \"#b3de69\", \"#fccde5\", \"#ff0000\", \"#cce6f4\",\n",
    "              \"#80b1d3\", \"#fdb462\", \"#b3de69\", \"#fccde5\", \"#9ba991\", \"#604d74\", \"#afcbc7\",\n",
    "              \"#80b1d3\", \"#fdb462\", \"#b3de69\", \"#fccde5\", \"#f0c800\", \"#387e75\", \"#fce7e7\",\n",
    "              \"#8dd3c7\", \"#ffffb3\", \"#bebada\", \"#fb8072\", \"#00778b\", \"#1d2d43\", \"#460606\",\n",
    "              \"#8dd3c7\", \"#ffffb3\", \"#bebada\", \"#fb8072\", \"#af3205\", \"#436e6f\", \"#f6a2a2\",\n",
    "              \"#d9d9d9\", \"#bc80bd\", \"#ccebc5\", \"#ffed6f\", \"#5a3791\", \"#1d2d43\", \"#0068a0\",\n",
    "              \"#d9d9d9\", \"#bc80bd\", \"#ccebc5\", \"#ffed6f\", \"#f6c4d2\", \"#675974\", \"#bb1212\",\n",
    "              \"#d9d9d9\", \"#bc80bd\", \"#ccebc5\", \"#ffed6f\", \"#ffd03e\", \"#4f5573\", \"#327169\",\n",
    "              \"#3697dd\", \"#8dd3c7\", \"#ffffb3\", \"#bebada\", \"#fb8072\", \"#ea1717\", \"#66b4de\",]\n"
   ]
  },
  {
   "cell_type": "code",
   "execution_count": 19,
   "metadata": {},
   "outputs": [
    {
     "data": {
      "text/html": [
       "<iframe id=\"igraph\" scrolling=\"no\" style=\"border:none;\" seamless=\"seamless\" src=\"https://plot.ly/~Isaac_S/8.embed\" height=\"450px\" width=\"900px\"></iframe>"
      ],
      "text/plain": [
       "<chart_studio.tools.PlotlyDisplay object>"
      ]
     },
     "execution_count": 19,
     "metadata": {},
     "output_type": "execute_result"
    }
   ],
   "source": [
    "bupu = cl.scales['9']['seq']['BuPu']\n",
    "bupu500 = cl.interp( bupu, 65 )\n",
    "fig = ff.create_choropleth(\n",
    "    fips=fips, values=values, scope=scope, \n",
    "    colorscale=bupu500, round_legend_values=True,\n",
    "    simplify_county=0, simplify_state=0,\n",
    "    county_outline={'color': 'rgb(15, 5, 55)', 'width': 0.5},\n",
    "    state_outline={'width': 0.5},\n",
    "    legend_title='Population per County',\n",
    "    title='New York')\n",
    "\n",
    "py.iplot(fig, filename='New York Choropleth')"
   ]
  },
  {
   "cell_type": "code",
   "execution_count": null,
   "metadata": {},
   "outputs": [],
   "source": []
  }
 ],
 "metadata": {
  "kernelspec": {
   "display_name": "Python 3",
   "language": "python",
   "name": "python3"
  },
  "language_info": {
   "codemirror_mode": {
    "name": "ipython",
    "version": 3
   },
   "file_extension": ".py",
   "mimetype": "text/x-python",
   "name": "python",
   "nbconvert_exporter": "python",
   "pygments_lexer": "ipython3",
   "version": "3.7.3"
  }
 },
 "nbformat": 4,
 "nbformat_minor": 2
}
