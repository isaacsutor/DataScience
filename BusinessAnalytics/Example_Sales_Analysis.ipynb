{
 "cells": [
  {
   "cell_type": "code",
   "execution_count": 1,
   "metadata": {},
   "outputs": [
    {
     "name": "stdout",
     "output_type": "stream",
     "text": [
      "3.10.0\n"
     ]
    }
   ],
   "source": [
    "from __future__ import division\n",
    "import plotly\n",
    "import plotly.plotly as py\n",
    "from plotly import __version__\n",
    "print(__version__)\n",
    "from plotly.offline import download_plotlyjs, init_notebook_mode, plot, iplot\n",
    "import pandas as pd\n",
    "import plotly.graph_objs as go\n",
    "import plotly.figure_factory as ff\n",
    "import cmocean\n",
    "from plotly import tools\n",
    "import colorlover as cl\n",
    "from IPython.display import IFrame\n",
    "import numpy as np"
   ]
  },
  {
   "cell_type": "code",
   "execution_count": 11,
   "metadata": {},
   "outputs": [],
   "source": [
    "# df = pd.read_csv(\"Datasets/cohorts.csv\", encoding=\"latin\")\n",
    "# df.to_csv(\"Datasets/cohorts.csv\", encoding=\"utf-8\")\n",
    "# df = pd.read_csv(\"Datasets/cohorts.csv\")\n",
    "# df.to_csv(\"Datasets/pipeline.csv\", encoding=\"utf-8\")\n",
    "df = pd.read_csv(\"Datasets/pipeline.csv\")"
   ]
  },
  {
   "cell_type": "code",
   "execution_count": 13,
   "metadata": {},
   "outputs": [
    {
     "name": "stdout",
     "output_type": "stream",
     "text": [
      "['lead', 'phase2', 'phase3', 'closed']\n"
     ]
    }
   ],
   "source": [
    "phases = list(df)\n",
    "phases = phases[1:]\n",
    "print(phases)"
   ]
  },
  {
   "cell_type": "code",
   "execution_count": 4,
   "metadata": {},
   "outputs": [],
   "source": [
    "# values = [len(phases[0], len(phases[1]), len(phases[2]), len(phases[3]))]"
   ]
  },
  {
   "cell_type": "code",
   "execution_count": 14,
   "metadata": {},
   "outputs": [
    {
     "data": {
      "text/html": [
       "<div>\n",
       "<style scoped>\n",
       "    .dataframe tbody tr th:only-of-type {\n",
       "        vertical-align: middle;\n",
       "    }\n",
       "\n",
       "    .dataframe tbody tr th {\n",
       "        vertical-align: top;\n",
       "    }\n",
       "\n",
       "    .dataframe thead th {\n",
       "        text-align: right;\n",
       "    }\n",
       "</style>\n",
       "<table border=\"1\" class=\"dataframe\">\n",
       "  <thead>\n",
       "    <tr style=\"text-align: right;\">\n",
       "      <th></th>\n",
       "      <th>lead</th>\n",
       "      <th>phase2</th>\n",
       "      <th>phase3</th>\n",
       "      <th>closed</th>\n",
       "    </tr>\n",
       "  </thead>\n",
       "  <tbody>\n",
       "    <tr>\n",
       "      <th>0</th>\n",
       "      <td>2015-06-19</td>\n",
       "      <td>2015-07-30</td>\n",
       "      <td>2015-08-11</td>\n",
       "      <td>2015-08-11</td>\n",
       "    </tr>\n",
       "    <tr>\n",
       "      <th>1</th>\n",
       "      <td>2015-06-20</td>\n",
       "      <td>2015-07-20</td>\n",
       "      <td>2015-07-20</td>\n",
       "      <td>2015-07-20</td>\n",
       "    </tr>\n",
       "    <tr>\n",
       "      <th>2</th>\n",
       "      <td>2015-06-21</td>\n",
       "      <td>NaN</td>\n",
       "      <td>NaN</td>\n",
       "      <td>NaN</td>\n",
       "    </tr>\n",
       "    <tr>\n",
       "      <th>3</th>\n",
       "      <td>2015-06-22</td>\n",
       "      <td>2015-06-30</td>\n",
       "      <td>2015-07-13</td>\n",
       "      <td>2015-07-13</td>\n",
       "    </tr>\n",
       "    <tr>\n",
       "      <th>4</th>\n",
       "      <td>2015-06-23</td>\n",
       "      <td>NaN</td>\n",
       "      <td>NaN</td>\n",
       "      <td>NaN</td>\n",
       "    </tr>\n",
       "  </tbody>\n",
       "</table>\n",
       "</div>"
      ],
      "text/plain": [
       "         lead      phase2      phase3      closed\n",
       "0  2015-06-19  2015-07-30  2015-08-11  2015-08-11\n",
       "1  2015-06-20  2015-07-20  2015-07-20  2015-07-20\n",
       "2  2015-06-21         NaN         NaN         NaN\n",
       "3  2015-06-22  2015-06-30  2015-07-13  2015-07-13\n",
       "4  2015-06-23         NaN         NaN         NaN"
      ]
     },
     "execution_count": 14,
     "metadata": {},
     "output_type": "execute_result"
    }
   ],
   "source": [
    "df_new = df[['lead', 'phase2', 'phase3', 'closed']]\n",
    "df_new.head()"
   ]
  },
  {
   "cell_type": "code",
   "execution_count": 30,
   "metadata": {},
   "outputs": [],
   "source": [
    "# df_sort_1 = df_new.sort_values(by=['phase2'], ascending=True)"
   ]
  },
  {
   "cell_type": "code",
   "execution_count": 15,
   "metadata": {},
   "outputs": [
    {
     "data": {
      "text/plain": [
       "10283"
      ]
     },
     "execution_count": 15,
     "metadata": {},
     "output_type": "execute_result"
    }
   ],
   "source": [
    "# df_sort_1.tail()\n",
    "len(df)"
   ]
  },
  {
   "cell_type": "code",
   "execution_count": 16,
   "metadata": {},
   "outputs": [
    {
     "name": "stdout",
     "output_type": "stream",
     "text": [
      "5063\n"
     ]
    }
   ],
   "source": [
    "# df_sort_1.filter(like='NA', axis='phase2')\n",
    "# df_new[pd.isnull(df_new).any(axis=1)]\n",
    "df_sort_1 = df_new[df_new['closed'].isnull()]\n",
    "# df_sort_1.head(4000)\n",
    "print(len(df_sort_1))"
   ]
  },
  {
   "cell_type": "code",
   "execution_count": 17,
   "metadata": {},
   "outputs": [
    {
     "name": "stdout",
     "output_type": "stream",
     "text": [
      "4949\n"
     ]
    }
   ],
   "source": [
    "df_sort_2 = df_sort_1[df_sort_1['phase3'].isnull()]\n",
    "# df_sort_2.head(4000)\n",
    "print(len(df_sort_2))"
   ]
  },
  {
   "cell_type": "code",
   "execution_count": 18,
   "metadata": {},
   "outputs": [
    {
     "name": "stdout",
     "output_type": "stream",
     "text": [
      "4390\n"
     ]
    }
   ],
   "source": [
    "df_sort_3 = df_sort_2[df_sort_2['phase2'].isnull()]\n",
    "# df_sort_3.head(4000)\n",
    "print(len(df_sort_3))"
   ]
  },
  {
   "cell_type": "code",
   "execution_count": 19,
   "metadata": {},
   "outputs": [
    {
     "name": "stdout",
     "output_type": "stream",
     "text": [
      "4\n"
     ]
    }
   ],
   "source": [
    "values = [len(df), len(df_sort_1), len(df_sort_2), len(df_sort_3)]\n",
    "colors = ['#FFFFFF', '#B2DDFF', '#66BBFF', '#008DFF']\n",
    "n_phase = len(phases)\n",
    "plot_width = 400\n",
    "\n",
    "section_h = 100\n",
    "section_d = 10\n",
    "print(n_phase)"
   ]
  },
  {
   "cell_type": "code",
   "execution_count": 21,
   "metadata": {},
   "outputs": [],
   "source": [
    "# multiply factor to calculate the width of other sections\n",
    "unit_width = plot_width / max(values)\n",
    " \n",
    "# width for all the sections (phases)\n",
    "phase_w = [int(value * unit_width) for value in values]\n",
    "\n",
    "height = section_h * n_phase + section_d * (n_phase-1)\n",
    "shapes = []\n",
    "label_y = []\n",
    "\n",
    "for i in range(n_phase):\n",
    "        if (i == n_phase-1):\n",
    "                points = [phase_w[i]/2, height, phase_w[i]/2, height - section_h]\n",
    "        else:\n",
    "                points = [phase_w[i]/2, height, phase_w[i+1]/2, height - section_h]\n",
    " \n",
    "        path = 'M {0} {1} L {2} {3} L -{2} {3} L -{0} {1} Z'.format(*points)\n",
    " \n",
    "        shape = {\n",
    "                'type': 'path',\n",
    "                'path': path,\n",
    "                'fillcolor': colors[i],\n",
    "                'line': {\n",
    "                    'width': 1,\n",
    "                    'color': colors[i]\n",
    "                }\n",
    "        }\n",
    "        shapes.append(shape)\n",
    "        \n",
    "        # Y-axis location for this section's details (phase name and value)\n",
    "        label_y.append(height - (section_h / 2))\n",
    " \n",
    "        height = height - (section_h + section_d)\n",
    "    \n",
    "# For phase names\n",
    "label_trace = go.Scatter(\n",
    "    x=[-350]*n_phase,\n",
    "    y=label_y,\n",
    "    mode='text',\n",
    "    text=phases,\n",
    "    textfont=dict(\n",
    "        color='rgb(200,200,200)',\n",
    "        size=15\n",
    "    )\n",
    ")\n",
    " \n",
    "# For phase values\n",
    "value_trace = go.Scatter(\n",
    "    x=[350]*n_phase,\n",
    "    y=label_y,\n",
    "    mode='text',\n",
    "    text=values,\n",
    "    textfont=dict(\n",
    "        color='rgb(200,200,200)',\n",
    "        size=15\n",
    "    )\n",
    ")"
   ]
  },
  {
   "cell_type": "code",
   "execution_count": 22,
   "metadata": {},
   "outputs": [
    {
     "name": "stderr",
     "output_type": "stream",
     "text": [
      "/Users/isaacsutor/dashpractice/lib/python3.7/site-packages/IPython/core/display.py:689: UserWarning:\n",
      "\n",
      "Consider using IPython.display.IFrame instead\n",
      "\n"
     ]
    },
    {
     "data": {
      "text/html": [
       "<iframe id=\"igraph\" scrolling=\"no\" style=\"border:none;\" seamless=\"seamless\" src=\"https://plot.ly/~Isaac_S/54.embed\" height=\"560px\" width=\"800px\"></iframe>"
      ],
      "text/plain": [
       "<chart_studio.tools.PlotlyDisplay object>"
      ]
     },
     "execution_count": 22,
     "metadata": {},
     "output_type": "execute_result"
    }
   ],
   "source": [
    "data = [label_trace, value_trace]\n",
    " \n",
    "layout = go.Layout(\n",
    "    title='Funnel Chart',\n",
    "    shapes=shapes,\n",
    "    height=560,\n",
    "    width=800,\n",
    "    showlegend=False,\n",
    "    paper_bgcolor='rgba(44,58,71,1)',\n",
    "    plot_bgcolor='rgba(44,58,71,1)',\n",
    "    xaxis=dict(\n",
    "        showticklabels=False,\n",
    "        zeroline=False,\n",
    "    ),\n",
    "    yaxis=dict(\n",
    "        showticklabels=False,\n",
    "        zeroline=False\n",
    "    )\n",
    ")\n",
    " \n",
    "fig = go.Figure(data=data, layout=layout)\n",
    "py.iplot(fig)"
   ]
  },
  {
   "cell_type": "code",
   "execution_count": null,
   "metadata": {},
   "outputs": [],
   "source": []
  }
 ],
 "metadata": {
  "kernelspec": {
   "display_name": "Python 3",
   "language": "python",
   "name": "python3"
  },
  "language_info": {
   "codemirror_mode": {
    "name": "ipython",
    "version": 3
   },
   "file_extension": ".py",
   "mimetype": "text/x-python",
   "name": "python",
   "nbconvert_exporter": "python",
   "pygments_lexer": "ipython3",
   "version": "3.7.3"
  }
 },
 "nbformat": 4,
 "nbformat_minor": 2
}
